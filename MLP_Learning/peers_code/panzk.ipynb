{
 "cells": [
  {
   "cell_type": "code",
   "execution_count": 1,
   "id": "a4126bf7-aafc-4da0-b596-f90eb8974b0c",
   "metadata": {},
   "outputs": [],
   "source": [
    "import numpy as np # 只会用到这个\n",
    "import json # 用来加载数据"
   ]
  },
  {
   "cell_type": "code",
   "execution_count": 2,
   "id": "4f0d4dce-dc8f-4a24-b0c3-e1036093f4a0",
   "metadata": {},
   "outputs": [],
   "source": [
    "def sigmoid(x):\n",
    "    return 1 / (1 + np.exp(-x))\n",
    "\n",
    "def relu(x):\n",
    "    if x <= 0:\n",
    "        return 0\n",
    "    return x"
   ]
  },
  {
   "cell_type": "code",
   "execution_count": 3,
   "id": "2cdbfa1c-311f-4cff-8f67-68be27ea8f2f",
   "metadata": {},
   "outputs": [],
   "source": [
    "def load_data(path):\n",
    "    with open(path, 'r') as f:\n",
    "        json_data = json.load(f)\n",
    "        X = np.array(json_data['x'])\n",
    "        X = (X - np.mean(X,axis=0)) / np.std(X, axis=0)\n",
    "        y = np.array(json_data['y'])\n",
    "        return X,y \n",
    "\n",
    "def load_ckpt(ckpt_file_name:str):\n",
    "    with open(ckpt_file_name, \"r\") as f:\n",
    "        json_data = json.load(f)\n",
    "        weights = json_data[\"weights\"]\n",
    "        return weights"
   ]
  },
  {
   "cell_type": "code",
   "execution_count": 4,
   "id": "2ab08680-5d96-4473-a9a8-6ce445fd2db6",
   "metadata": {},
   "outputs": [],
   "source": [
    "class Layer:\n",
    "    def __init__(self, input_dim, output_dim, function):\n",
    "        self.input_dim = input_dim\n",
    "        self.output_dim = output_dim\n",
    "        self.function = function\n",
    "        self.weight = np.random.randn(input_dim+1, output_dim)\n",
    "    def forward(self, x):\n",
    "        arr = []\n",
    "        for vector in x:\n",
    "            arr.append(np.append(vector, 1))\n",
    "        x = np.array(arr)\n",
    "        return self.function(x@self.weight)\n",
    "    # def backward(self, delta): We'll do this next time!"
   ]
  },
  {
   "cell_type": "code",
   "execution_count": 16,
   "id": "c49785df-04ad-428a-a788-00346279e3b7",
   "metadata": {},
   "outputs": [],
   "source": [
    "class MLP:\n",
    "    def __init__(self, shapes):\n",
    "        self.layers = [\n",
    "            Layer(shapes[i], shapes[i+1], sigmoid)\n",
    "            for i in range(len(shapes)-1) #一层线是一个Layer\n",
    "        ]\n",
    "    def forward(self, x):\n",
    "        for layer in self.layers:\n",
    "            x = layer.forward(x)\n",
    "        return x\n",
    "    # def backward(self, y): We will do this next time!\n",
    "    # def train(self, train_set, loss='mse', epochs=100, lr=0.3): We will do this next time!\n",
    "    \n",
    "    def evaluate(self, X, y):\n",
    "        pred = self.forward(X)\n",
    "        total_correct = 0\n",
    "        for i in range(len(pred)):\n",
    "            predi = pred[i][0]\n",
    "            if np.abs(predi - y[i]) < 0.5:\n",
    "                total_correct += 1\n",
    "        accuracy = total_correct / len(pred)\n",
    "        return accuracy"
   ]
  },
  {
   "cell_type": "code",
   "execution_count": 25,
   "id": "9a458939-3ef2-4216-91ab-1a7e376d24b6",
   "metadata": {},
   "outputs": [],
   "source": [
    "def main():\n",
    "    mlp = MLP([2, 64, 1]) #shapes: 各层节点数\n",
    "    test_X, test_Y = load_data('data8.json')\n",
    "    weights = load_ckpt('quad8.ckpt')\n",
    "    for i in range(len(mlp.layers)):\n",
    "        mlp.layers[i].weight = np.array(weights[i]).T\n",
    "    print(mlp.evaluate(test_X, test_Y))"
   ]
  },
  {
   "cell_type": "code",
   "execution_count": 29,
   "id": "ecd31d25-82ff-46d9-baa2-9128bc85ff60",
   "metadata": {},
   "outputs": [
    {
     "name": "stdout",
     "output_type": "stream",
     "text": [
      "0.954\n"
     ]
    }
   ],
   "source": [
    "main()"
   ]
  },
  {
   "cell_type": "markdown",
   "id": "d7d06b20-f066-4af5-b960-e4d980121512",
   "metadata": {},
   "source": []
  },
  {
   "cell_type": "code",
   "execution_count": null,
   "id": "8982780a-9ce0-47c1-8124-d5155375ad18",
   "metadata": {},
   "outputs": [],
   "source": []
  },
  {
   "cell_type": "code",
   "execution_count": null,
   "id": "f7813a9b-e3fa-460d-aae3-d32d24e03053",
   "metadata": {},
   "outputs": [],
   "source": []
  }
 ],
 "metadata": {
  "kernelspec": {
   "display_name": "Python 3 (ipykernel)",
   "language": "python",
   "name": "python3"
  },
  "language_info": {
   "codemirror_mode": {
    "name": "ipython",
    "version": 3
   },
   "file_extension": ".py",
   "mimetype": "text/x-python",
   "name": "python",
   "nbconvert_exporter": "python",
   "pygments_lexer": "ipython3",
   "version": "3.12.7"
  }
 },
 "nbformat": 4,
 "nbformat_minor": 5
}
