{
 "cells": [
  {
   "cell_type": "code",
   "execution_count": 1,
   "id": "20317755-34db-4e62-9494-f2aee3ae6afb",
   "metadata": {},
   "outputs": [],
   "source": [
    "import numpy as np # 只会用到这个\n",
    "import json # 用来加载数据"
   ]
  },
  {
   "cell_type": "code",
   "execution_count": 2,
   "id": "0306f50c-ae7a-47d5-9fa9-4156cd906271",
   "metadata": {},
   "outputs": [],
   "source": [
    "def sigmoid(x):\n",
    "     return 1/(1+np.exp(-x))\n",
    "\n",
    "def relu(x):\n",
    "    if x<=0:\n",
    "        return 0\n",
    "    elif x>0:\n",
    "        return x"
   ]
  },
  {
   "cell_type": "code",
   "execution_count": 3,
   "id": "4a688b54-573b-4871-b0e0-15bc56837de2",
   "metadata": {},
   "outputs": [],
   "source": [
    "def load_data(path):\n",
    "    with open(path, 'r') as f:\n",
    "        json_data = json.load(f)\n",
    "        X = np.array(json_data['x'])\n",
    "        X = (X - np.mean(X,axis=0)) / np.std(X, axis=0)\n",
    "        y = np.array(json_data['y'])\n",
    "        return X,y \n",
    "\n",
    "def load_ckpt(ckpt_file_name:str):\n",
    "    with open(ckpt_file_name, \"r\") as f:\n",
    "        json_data = json.load(f)\n",
    "        weights = json_data[\"weights\"]\n",
    "        return weights"
   ]
  },
  {
   "cell_type": "code",
   "execution_count": 4,
   "id": "2447ba07-f4fa-4d38-8728-6d27ab3bb4ae",
   "metadata": {},
   "outputs": [],
   "source": [
    "class Layer:\n",
    "    def __init__(self,input_dim,output_dim,function):\n",
    "        self.input_dim = input_dim\n",
    "        self.output_dim = output_dim\n",
    "        self.function = function\n",
    "        self.weights = np.random.randn(input_dim+1,output_dim)\n",
    "\n",
    "    def forward(self,x):\n",
    "        arr = []\n",
    "        for vector in x:\n",
    "            arr.append(np.append(vector,1))\n",
    "        x = np.array(arr)\n",
    "        return self.function(x @ self.weights)\n",
    "        \n",
    "    # def backward(self, delta): We'll do this next time!"
   ]
  },
  {
   "cell_type": "code",
   "execution_count": 5,
   "id": "c95766c6-599b-467b-a7a2-1c367d3a62b6",
   "metadata": {},
   "outputs": [],
   "source": [
    "class MLP:\n",
    "    def __init__(self,shapes:list):\n",
    "        self.layers = []\n",
    "        for i in range(len(shapes)-1):\n",
    "            self.layers.append(Layer(shapes[i],shapes[i+1],sigmoid))\n",
    "            \n",
    "    def forward(self,x):\n",
    "        for layer in self.layers:\n",
    "            x = layer.forward(x)\n",
    "        return x\n",
    "    \n",
    "    # def backward(self, y): We will do this next time!\n",
    "    # def train(self, train_set, loss='mse', epochs=100, lr=0.3): We will do this next time!\n",
    "    \n",
    "    def evaluate(self, X, y):\n",
    "        pred = self.forward(X)\n",
    "        total_correct = 0\n",
    "        for i in range(len(pred)):\n",
    "            predi = pred[i][0]\n",
    "            if (np.abs(predi-y[i])<0.5):\n",
    "                total_correct += 1\n",
    "        accuracy = total_correct/len(pred)\n",
    "        return accuracy"
   ]
  },
  {
   "cell_type": "code",
   "execution_count": 6,
   "id": "5f6dbbd3-5280-443b-90ca-0291e9245acf",
   "metadata": {},
   "outputs": [],
   "source": [
    "def main():\n",
    "    mlp=MLP([2,64,1])\n",
    "    test_X,test_y = load_data(\"data.json\")\n",
    "    weights = load_ckpt(\"quad.ckpt\")\n",
    "    for i in range(len(mlp.layers)):\n",
    "        mlp.layers[i].weights = np.array(weights[i])\n",
    "        mlp.layers[i].weights = mlp.layers[i].weights.T\n",
    "    print(mlp.evaluate(test_X,test_y))"
   ]
  },
  {
   "cell_type": "code",
   "execution_count": 7,
   "id": "5ef72430-fbde-475a-8f24-3e6a7c876387",
   "metadata": {},
   "outputs": [
    {
     "name": "stdout",
     "output_type": "stream",
     "text": [
      "0.811\n"
     ]
    }
   ],
   "source": [
    "main()"
   ]
  }
 ],
 "metadata": {
  "kernelspec": {
   "display_name": "Python 3 (ipykernel)",
   "language": "python",
   "name": "python3"
  },
  "language_info": {
   "codemirror_mode": {
    "name": "ipython",
    "version": 3
   },
   "file_extension": ".py",
   "mimetype": "text/x-python",
   "name": "python",
   "nbconvert_exporter": "python",
   "pygments_lexer": "ipython3",
   "version": "3.12.7"
  }
 },
 "nbformat": 4,
 "nbformat_minor": 5
}
