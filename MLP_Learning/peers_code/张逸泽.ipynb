{
 "cells": [
  {
   "cell_type": "code",
   "execution_count": 8,
   "id": "cf5f8c52-d5de-45eb-ba6e-5ab27758e664",
   "metadata": {},
   "outputs": [],
   "source": [
    "import numpy as np # 只会用到这个\n",
    "import json # 用来加载数据"
   ]
  },
  {
   "cell_type": "code",
   "execution_count": 9,
   "id": "7bcaefce-ef66-4ff9-a510-a545cef69f62",
   "metadata": {},
   "outputs": [],
   "source": [
    "def sigmoid(x):\n",
    "    return 1 / ( 1 + np.exp(-x))\n",
    "\n",
    "def relu(x):\n",
    "    if x<=0:\n",
    "        return 0\n",
    "    elif x>0:\n",
    "        return x"
   ]
  },
  {
   "cell_type": "code",
   "execution_count": 10,
   "id": "32899c4a-0c5c-44b6-92c1-415aa475c51b",
   "metadata": {},
   "outputs": [],
   "source": [
    "def load_data(path):\n",
    "    with open(path, 'r') as f:\n",
    "        json_data = json.load(f)\n",
    "        X = np.array(json_data['x'])\n",
    "        X = (X - np.mean(X,axis=0)) / np.std(X, axis=0)\n",
    "        y = np.array(json_data['y'])\n",
    "        return X,y \n",
    "\n",
    "def load_ckpt(ckpt_file_name:str):\n",
    "    with open(ckpt_file_name, \"r\") as f:\n",
    "        json_data = json.load(f)\n",
    "        weights = json_data[\"weights\"]\n",
    "        return weights"
   ]
  },
  {
   "cell_type": "code",
   "execution_count": 11,
   "id": "e6431d5f-8340-4413-8f22-77b7eb70cb88",
   "metadata": {},
   "outputs": [],
   "source": [
    "class Layer:\n",
    "    def __init__(self,input_dim,output_dim,function):\n",
    "        self.input_dim = input_dim\n",
    "        self.output_dim = output_dim\n",
    "        self.function = function\n",
    "        self.weights = np.random.randn(input_dim+1,output_dim)\n",
    "\n",
    "    \n",
    "    def forward(self,x):\n",
    "        arr = []\n",
    "        for vector in x:\n",
    "            arr.append(np.append(vector,1))\n",
    "        x = np.array(arr)\n",
    "        return self.function(x @ self.weights)\n",
    "    # def backward(self, delta): We'll do this next time!"
   ]
  },
  {
   "cell_type": "code",
   "execution_count": 12,
   "id": "8233a330-089e-4bdb-9fb7-e5a9f7bebb07",
   "metadata": {},
   "outputs": [],
   "source": [
    "class MLP:\n",
    "    def __init__(self,shapes:list):\n",
    "        self.layers = []\n",
    "        for i in range(len(shapes)-1):\n",
    "            self.layers.append(Layer(shapes[i],shapes[i+1],sigmoid))\n",
    "    def forward(self,x):\n",
    "        for layer in self.layers:\n",
    "            x = layer.forward(x)\n",
    "        return x\n",
    "    \n",
    "    # def backward(self, y): We will do this next time!\n",
    "    # def train(self, train_set, loss='mse', epochs=100, lr=0.3): We will do this next time!\n",
    "    \n",
    "    def evaluate(self, X, y):\n",
    "        pred = self.forward(X)\n",
    "        total_correct = 0\n",
    "        for i in range(len(pred)):\n",
    "            predi = pred[i][0]\n",
    "            if (np.abs(predi - y[i])<0.5):\n",
    "                total_correct+=1\n",
    "        accuracy = total_correct / len(pred)\n",
    "        return accuracy"
   ]
  },
  {
   "cell_type": "code",
   "execution_count": 13,
   "id": "3659c707-1cdf-49d9-9be3-dc741598c450",
   "metadata": {},
   "outputs": [],
   "source": [
    "def main():\n",
    "    mlp = MLP([2,64,1])\n",
    "    test_X,test_y = load_data(\"data.json\")\n",
    "    weights = load_ckpt(\"quad.ckpt\")\n",
    "    for i in range(len(mlp.layers)):\n",
    "        mlp.layers[i].weights = np.array(weights[i])\n",
    "        mlp.layers[i].weights = mlp.layers[i].weights.T\n",
    "    print(mlp.evaluate(test_X,test_y))"
   ]
  },
  {
   "cell_type": "code",
   "execution_count": 7,
   "id": "3eca6cfa-ef0f-42a1-804e-45ce9d1732b0",
   "metadata": {},
   "outputs": [
    {
     "name": "stdout",
     "output_type": "stream",
     "text": [
      "0.811\n"
     ]
    }
   ],
   "source": [
    "main()"
   ]
  },
  {
   "cell_type": "code",
   "execution_count": null,
   "id": "cbeebcbe-6835-4ee0-b317-737356548136",
   "metadata": {},
   "outputs": [],
   "source": []
  },
  {
   "cell_type": "code",
   "execution_count": null,
   "id": "28ceb569-72fb-4414-adfa-08d242996c3c",
   "metadata": {},
   "outputs": [],
   "source": []
  },
  {
   "cell_type": "code",
   "execution_count": null,
   "id": "6b10abf8-f7a8-4cb5-af2d-c41c6d6b1f94",
   "metadata": {},
   "outputs": [],
   "source": []
  }
 ],
 "metadata": {
  "kernelspec": {
   "display_name": "Python 3 (ipykernel)",
   "language": "python",
   "name": "python3"
  },
  "language_info": {
   "codemirror_mode": {
    "name": "ipython",
    "version": 3
   },
   "file_extension": ".py",
   "mimetype": "text/x-python",
   "name": "python",
   "nbconvert_exporter": "python",
   "pygments_lexer": "ipython3",
   "version": "3.12.7"
  }
 },
 "nbformat": 4,
 "nbformat_minor": 5
}
