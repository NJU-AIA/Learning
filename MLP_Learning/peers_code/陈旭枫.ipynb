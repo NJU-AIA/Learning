{
 "cells": [
  {
   "cell_type": "code",
   "execution_count": 1,
   "id": "a4126bf7-aafc-4da0-b596-f90eb8974b0c",
   "metadata": {},
   "outputs": [],
   "source": [
    "import numpy as np # 只会用到这个\n",
    "import json # 用来加载数据"
   ]
  },
  {
   "cell_type": "code",
   "execution_count": 2,
   "id": "4f0d4dce-dc8f-4a24-b0c3-e1036093f4a0",
   "metadata": {},
   "outputs": [],
   "source": [
    "def sigmoid(x):\n",
    "    return 1/(1+np.exp(-x))\n",
    "\n",
    "def relu(x):\n",
    "    if ( x <=0 ):\n",
    "        return 0\n",
    "    else:\n",
    "        return x"
   ]
  },
  {
   "cell_type": "code",
   "execution_count": 3,
   "id": "2cdbfa1c-311f-4cff-8f67-68be27ea8f2f",
   "metadata": {},
   "outputs": [],
   "source": [
    "def load_data(path):\n",
    "    with open(path, 'r') as f:\n",
    "        json_data = json.load(f)\n",
    "        X = np.array(json_data['x'])\n",
    "        X = (X - np.mean(X,axis=0)) / np.std(X, axis=0)\n",
    "        y = np.array(json_data['y'])\n",
    "        return X,y \n",
    "\n",
    "def load_ckpt(ckpt_file_name:str):\n",
    "    with open(ckpt_file_name, \"r\") as f:\n",
    "        json_data = json.load(f)\n",
    "        weights = json_data[\"weights\"]\n",
    "        return weights"
   ]
  },
  {
   "cell_type": "code",
   "execution_count": 4,
   "id": "2ab08680-5d96-4473-a9a8-6ce445fd2db6",
   "metadata": {},
   "outputs": [],
   "source": [
    "class Layer:\n",
    "    def __init__(self,input_dim,output_dim,function):\n",
    "        self.input_dim = input_dim\n",
    "        self.output_dim = output_dim\n",
    "        self.function = function\n",
    "        self.weights = np.random.randn(input_dim+1,output_dim)\n",
    "    def forward(self,x):\n",
    "        arr = []\n",
    "        for vector in x :\n",
    "            arr.append(np.append(vector,1))\n",
    "        a = np.array(arr)\n",
    "        return self.function( a @ self.weights)    \n",
    "            # def backward(self, delta): We'll do this next time!"
   ]
  },
  {
   "cell_type": "code",
   "execution_count": 5,
   "id": "c49785df-04ad-428a-a788-00346279e3b7",
   "metadata": {},
   "outputs": [],
   "source": [
    "class MLP:\n",
    "    def __init__(self,shapes):\n",
    "        self.layers = []\n",
    "        for i in range( len(shapes)-1 ):\n",
    "            self.layers.append(Layer(shapes[i],shapes[i+1],sigmoid))\n",
    "        # sef.layers = [\n",
    "        #     Layer(shapes[i],shapes[i+1],)\n",
    "        #     for i in range (len(shapes))\n",
    "        # ]\n",
    "    def forward(self,s):\n",
    "        for layer in self.layers:\n",
    "            s = layer.forward(s)\n",
    "        return s\n",
    "    # def backward(self, y): We will do this next time!\n",
    "    # def train(self, train_set, loss='mse', epochs=100, lr=0.3): We will do this next time!\n",
    "    \n",
    "    def evaluate(self, X, y):\n",
    "        pred = self.forward(X)\n",
    "        total_corret = 0\n",
    "        for i in range(len(pred)):\n",
    "            predi = pred[i][0]\n",
    "            if (np.abs(predi-y[i])<0.5):\n",
    "                total_corret += 1\n",
    "        accuracy = total_corret / len(pred)\n",
    "        return accuracy"
   ]
  },
  {
   "cell_type": "code",
   "execution_count": 6,
   "id": "9a458939-3ef2-4216-91ab-1a7e376d24b6",
   "metadata": {},
   "outputs": [],
   "source": [
    "def main():\n",
    "    mlp = MLP([2,64,1])\n",
    "    test_x,test_y = load_data(\"data.json\")\n",
    "    weight = load_ckpt(\"quad.ckpt\")\n",
    "    for i in range(len(mlp.layers)):\n",
    "        mlp.layers[i].weights = np.array(weight[i])\n",
    "        mlp.layers[i].weights = mlp.layers[i].weights.T\n",
    "    print(mlp.evaluate(test_x,test_y))"
   ]
  },
  {
   "cell_type": "code",
   "execution_count": 7,
   "id": "edf347d7-18ba-4383-b611-588e3144d482",
   "metadata": {},
   "outputs": [
    {
     "name": "stdout",
     "output_type": "stream",
     "text": [
      "0.811\n"
     ]
    }
   ],
   "source": [
    "main()"
   ]
  },
  {
   "cell_type": "code",
   "execution_count": null,
   "id": "8910e340-6870-4e5e-b603-29d929ab290f",
   "metadata": {},
   "outputs": [],
   "source": []
  },
  {
   "cell_type": "code",
   "execution_count": null,
   "id": "34c506ec-c140-4666-a523-1ae4128db8c6",
   "metadata": {},
   "outputs": [],
   "source": []
  }
 ],
 "metadata": {
  "kernelspec": {
   "display_name": "Python 3 (ipykernel)",
   "language": "python",
   "name": "python3"
  },
  "language_info": {
   "codemirror_mode": {
    "name": "ipython",
    "version": 3
   },
   "file_extension": ".py",
   "mimetype": "text/x-python",
   "name": "python",
   "nbconvert_exporter": "python",
   "pygments_lexer": "ipython3",
   "version": "3.12.4"
  }
 },
 "nbformat": 4,
 "nbformat_minor": 5
}
