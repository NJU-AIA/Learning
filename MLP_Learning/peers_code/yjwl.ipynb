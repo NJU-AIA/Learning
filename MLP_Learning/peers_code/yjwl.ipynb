{
 "cells": [
  {
   "cell_type": "markdown",
   "id": "7bf7f6f2-c356-46e4-9adb-c2b9490ffccb",
   "metadata": {},
   "source": [
    "# AIA人工智能第一讲：Build an MLP from scratch by yourself\n"
   ]
  },
  {
   "cell_type": "code",
   "execution_count": 104,
   "id": "d35408f8-9e0a-4945-97a9-1caa2a4c7689",
   "metadata": {
    "editable": true,
    "slideshow": {
     "slide_type": ""
    },
    "tags": []
   },
   "outputs": [],
   "source": [
    "import numpy as np # 只会用到这个\n",
    "import json # 用来加载数据"
   ]
  },
  {
   "cell_type": "code",
   "execution_count": 105,
   "id": "bde8a1bf-ce41-4f2c-b39f-1afba788c9f5",
   "metadata": {},
   "outputs": [],
   "source": [
    "# 一些辅助的函数\n",
    "\n",
    "def sigmoid(x):\n",
    "    return 1/(1+np.exp(-x))\n",
    "\n",
    "def d_sigmoid(x):\n",
    "    return sigmoid(x) * (1 - sigmoid(x))\n",
    "\n",
    "def relu(x):\n",
    "    return np.maximum(x,0)\n",
    "\n",
    "def d_relu(x):\n",
    "    return np.array([0 if i <= 0 else 1 for i in x])\n",
    "\n",
    "def load_data(path):\n",
    "    with open(path, 'r') as f:\n",
    "        json_data = json.load(f)\n",
    "        X = np.array(json_data['x'])\n",
    "        X = (X - np.mean(X,axis=0)) / np.std(X, axis=0)\n",
    "        y = np.array(json_data['y'])\n",
    "        return X,y \n"
   ]
  },
  {
   "cell_type": "code",
   "execution_count": 106,
   "id": "04bb27bd",
   "metadata": {},
   "outputs": [],
   "source": [
    "class Layer:\n",
    "    def __init__(self, input_dim, output_dim, function):\n",
    "        self.input_dim = input_dim\n",
    "        self.output_dim = output_dim\n",
    "        self.function = function\n",
    "        if function == sigmoid:\n",
    "            self.derevative = d_sigmoid\n",
    "        if function == relu:\n",
    "            self.derevative = d_relu\n",
    "        self.weights = np.random.randn(input_dim+1, output_dim)\n",
    "    def forward(self, x):\n",
    "        x = np.array([np.append(data, 1) for data in x])\n",
    "        return self.function(x @ self.weights)\n",
    "    # def backward(self, delta): We'll do it next time\n",
    "        "
   ]
  },
  {
   "cell_type": "code",
   "execution_count": 107,
   "id": "b9ccb7b5-878f-4108-9c23-2d36cd840b24",
   "metadata": {},
   "outputs": [],
   "source": [
    "class MLP:\n",
    "    def __init__(self, shapes):\n",
    "        self.layers = [\n",
    "            Layer(shapes[i], shapes[i+1], sigmoid)\n",
    "            for i in range(len(shapes) - 1)\n",
    "        ]\n",
    "    def forward(self, x):\n",
    "        for layer in self.layers:\n",
    "            x = layer.forward(x)\n",
    "        return x\n",
    "    \n",
    "    # def backward(self, y): We will do this next time!\n",
    "    # def train(self, train_set, loss='mse', epochs=100, lr=0.3): We will do this next time!\n",
    "    \n",
    "    def load_ckpt(self, ckpt_file_name):\n",
    "        with open(ckpt_file_name, 'r') as f:\n",
    "            json_data = json.load(f)\n",
    "            weights = json_data['weights']\n",
    "            for index, layer in enumerate(self.layers):\n",
    "                layer.weights = np.array(weights[index])\n",
    "                layer.weights = layer.weights.T\n",
    "            \n",
    "\n",
    "    def save_ckpt(self, ckpt_file_name):\n",
    "        with open(ckpt_file_name, 'w') as f:\n",
    "            data = {\n",
    "                'weights': [layer.weights for layer in self.layers]       \n",
    "            }\n",
    "            json_data = json.dumps(data)\n",
    "            f.write(json_data)\n",
    "            \n",
    "    def evaluate(self, X, y):\n",
    "        pred = self.forward(X)\n",
    "        accuracy = 0\n",
    "        for i, predi in enumerate(pred):\n",
    "            predi = predi[0] # 因为我们的模型输出是1维的\n",
    "            if np.abs(predi - y[i]) < 0.5:\n",
    "                accuracy += 1\n",
    "        accuracy = accuracy / len(pred)\n",
    "        return accuracy"
   ]
  },
  {
   "cell_type": "code",
   "execution_count": 108,
   "id": "4c41bcf2-a2f1-46ca-85b2-7ed080882b52",
   "metadata": {},
   "outputs": [],
   "source": [
    "def main():\n",
    "    test_X, test_y = load_data(\"data.json\")\n",
    "    n, dim = test_X.shape\n",
    "    mlp = MLP([dim,64,1])\n",
    "    mlp.load_ckpt(\"quad.ckpt\")\n",
    "    print(mlp.evaluate(test_X, test_y))"
   ]
  },
  {
   "cell_type": "code",
   "execution_count": 109,
   "id": "d35611bf-5cfc-4963-87ad-76456a5c3e36",
   "metadata": {},
   "outputs": [
    {
     "name": "stdout",
     "output_type": "stream",
     "text": [
      "0.8235\n"
     ]
    }
   ],
   "source": [
    "main()"
   ]
  }
 ],
 "metadata": {
  "kernelspec": {
   "display_name": "Python 3",
   "language": "python",
   "name": "python3"
  },
  "language_info": {
   "codemirror_mode": {
    "name": "ipython",
    "version": 3
   },
   "file_extension": ".py",
   "mimetype": "text/x-python",
   "name": "python",
   "nbconvert_exporter": "python",
   "pygments_lexer": "ipython3",
   "version": "3.12.4"
  }
 },
 "nbformat": 4,
 "nbformat_minor": 5
}
