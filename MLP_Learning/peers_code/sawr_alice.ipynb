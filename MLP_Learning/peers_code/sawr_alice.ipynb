{
 "cells": [
  {
   "cell_type": "code",
   "execution_count": 1,
   "id": "a4126bf7-aafc-4da0-b596-f90eb8974b0c",
   "metadata": {},
   "outputs": [],
   "source": [
    "import numpy as np # 只会用到这个\n",
    "import json # 用来加载数据"
   ]
  },
  {
   "cell_type": "code",
   "execution_count": 2,
   "id": "4f0d4dce-dc8f-4a24-b0c3-e1036093f4a0",
   "metadata": {},
   "outputs": [],
   "source": [
    "def sigmoid(x):\n",
    "    return 1/(1+np.exp(-x))\n",
    "\n",
    "def relu(x):\n",
    "    if x < 0:\n",
    "        return 0\n",
    "    else:\n",
    "        return x"
   ]
  },
  {
   "cell_type": "code",
   "execution_count": 3,
   "id": "2cdbfa1c-311f-4cff-8f67-68be27ea8f2f",
   "metadata": {},
   "outputs": [],
   "source": [
    "def load_data(path):\n",
    "    with open(path, 'r') as f:\n",
    "        json_data = json.load(f)\n",
    "        X = np.array(json_data['x'])\n",
    "        X = (X - np.mean(X,axis=0)) / np.std(X, axis=0)\n",
    "        y = np.array(json_data['y'])\n",
    "        return X,y \n",
    "\n",
    "def load_ckpt(ckpt_file_name:str):\n",
    "    with open(ckpt_file_name, \"r\") as f:\n",
    "        json_data = json.load(f)\n",
    "        weights = json_data[\"weights\"]\n",
    "        return weights"
   ]
  },
  {
   "cell_type": "code",
   "execution_count": 4,
   "id": "2ab08680-5d96-4473-a9a8-6ce445fd2db6",
   "metadata": {},
   "outputs": [],
   "source": [
    "class Layer:\n",
    "    def __init__(self,input_dim,output_dim,function):\n",
    "        self.input_dim = input_dim\n",
    "        self.output_dim = output_dim\n",
    "        self.function = function\n",
    "        self.weights = np.random.randn(input_dim+1,output_dim)\n",
    "        \n",
    "    def forward(self,x):\n",
    "        arr = []\n",
    "        for vector in x:\n",
    "            arr.append(np.append(vector,1))\n",
    "            x = np.array(arr)\n",
    "\n",
    "        return self.function(x @ self.weights)\n",
    "        \n",
    "    # def backward(self, delta): We'll do this next time!"
   ]
  },
  {
   "cell_type": "code",
   "execution_count": 5,
   "id": "c49785df-04ad-428a-a788-00346279e3b7",
   "metadata": {},
   "outputs": [],
   "source": [
    "class MLP:\n",
    "    def __init__(self,shapes:list):\n",
    "        self.layers = []\n",
    "\n",
    "        for i in range(len(shapes)-1):        \n",
    "            self.layers.append(Layer(shapes[i],shapes[i+1],sigmoid))\n",
    "    def forward(self,x):\n",
    "        for layer in self.layers:\n",
    "            x = layer.forward(x)\n",
    "        return x\n",
    "    \n",
    "    # def backward(self, y): We will do this next time!\n",
    "    # def train(self, train_set, loss='mse', epochs=100, lr=0.3): We will do this next time!\n",
    "    \n",
    "    def evaluate(self, x, y):\n",
    "        pred = self.forward(x)\n",
    "        total_correct = 0\n",
    "        for i in range(len(pred)):\n",
    "            predi = pred[i][0]\n",
    "            if (np.abs(predi - y[i]) < 0.5):\n",
    "                total_correct += 1\n",
    "        accuracy = total_correct/len(pred)\n",
    "        return accuracy\n"
   ]
  },
  {
   "cell_type": "code",
   "execution_count": 6,
   "id": "9a458939-3ef2-4216-91ab-1a7e376d24b6",
   "metadata": {},
   "outputs": [],
   "source": [
    "def main():\n",
    "    mlp = MLP([2,64,1])\n",
    "    test_x,test_y = load_data(\"data.json\")\n",
    "    weights = load_ckpt(\"quad.ckpt\")\n",
    "    for i in range(len(mlp.layers)):\n",
    "        mlp.layers[i].weights = np.array(weights[i])\n",
    "        mlp.layers[i].weights = mlp.layers[i].weights.T\n",
    "    print(mlp.evaluate(test_x,test_y))"
   ]
  },
  {
   "cell_type": "code",
   "execution_count": 7,
   "id": "edf347d7-18ba-4383-b611-588e3144d482",
   "metadata": {},
   "outputs": [
    {
     "ename": "FileNotFoundError",
     "evalue": "[Errno 2] No such file or directory: 'quad.ckpy'",
     "output_type": "error",
     "traceback": [
      "\u001b[1;31m---------------------------------------------------------------------------\u001b[0m",
      "\u001b[1;31mFileNotFoundError\u001b[0m                         Traceback (most recent call last)",
      "Cell \u001b[1;32mIn[7], line 1\u001b[0m\n\u001b[1;32m----> 1\u001b[0m \u001b[43mmain\u001b[49m\u001b[43m(\u001b[49m\u001b[43m)\u001b[49m\n",
      "Cell \u001b[1;32mIn[6], line 4\u001b[0m, in \u001b[0;36mmain\u001b[1;34m()\u001b[0m\n\u001b[0;32m      2\u001b[0m mlp \u001b[38;5;241m=\u001b[39m MLP([\u001b[38;5;241m2\u001b[39m,\u001b[38;5;241m64\u001b[39m,\u001b[38;5;241m1\u001b[39m])\n\u001b[0;32m      3\u001b[0m test_x,test_y \u001b[38;5;241m=\u001b[39m load_data(\u001b[38;5;124m\"\u001b[39m\u001b[38;5;124mdata.json\u001b[39m\u001b[38;5;124m\"\u001b[39m)\n\u001b[1;32m----> 4\u001b[0m weights \u001b[38;5;241m=\u001b[39m \u001b[43mload_ckpt\u001b[49m\u001b[43m(\u001b[49m\u001b[38;5;124;43m\"\u001b[39;49m\u001b[38;5;124;43mquad.ckpy\u001b[39;49m\u001b[38;5;124;43m\"\u001b[39;49m\u001b[43m)\u001b[49m\n\u001b[0;32m      5\u001b[0m \u001b[38;5;28;01mfor\u001b[39;00m i \u001b[38;5;129;01min\u001b[39;00m \u001b[38;5;28mrange\u001b[39m(\u001b[38;5;28mlen\u001b[39m(mlp\u001b[38;5;241m.\u001b[39mlayers)):\n\u001b[0;32m      6\u001b[0m     mlp\u001b[38;5;241m.\u001b[39mlayers[i]\u001b[38;5;241m.\u001b[39mweights \u001b[38;5;241m=\u001b[39m np\u001b[38;5;241m.\u001b[39marray(weights[i])\n",
      "Cell \u001b[1;32mIn[3], line 10\u001b[0m, in \u001b[0;36mload_ckpt\u001b[1;34m(ckpt_file_name)\u001b[0m\n\u001b[0;32m      9\u001b[0m \u001b[38;5;28;01mdef\u001b[39;00m \u001b[38;5;21mload_ckpt\u001b[39m(ckpt_file_name:\u001b[38;5;28mstr\u001b[39m):\n\u001b[1;32m---> 10\u001b[0m     \u001b[38;5;28;01mwith\u001b[39;00m \u001b[38;5;28;43mopen\u001b[39;49m\u001b[43m(\u001b[49m\u001b[43mckpt_file_name\u001b[49m\u001b[43m,\u001b[49m\u001b[43m \u001b[49m\u001b[38;5;124;43m\"\u001b[39;49m\u001b[38;5;124;43mr\u001b[39;49m\u001b[38;5;124;43m\"\u001b[39;49m\u001b[43m)\u001b[49m \u001b[38;5;28;01mas\u001b[39;00m f:\n\u001b[0;32m     11\u001b[0m         json_data \u001b[38;5;241m=\u001b[39m json\u001b[38;5;241m.\u001b[39mload(f)\n\u001b[0;32m     12\u001b[0m         weights \u001b[38;5;241m=\u001b[39m json_data[\u001b[38;5;124m\"\u001b[39m\u001b[38;5;124mweights\u001b[39m\u001b[38;5;124m\"\u001b[39m]\n",
      "File \u001b[1;32m~\\AppData\\Roaming\\Python\\Python312\\site-packages\\IPython\\core\\interactiveshell.py:324\u001b[0m, in \u001b[0;36m_modified_open\u001b[1;34m(file, *args, **kwargs)\u001b[0m\n\u001b[0;32m    317\u001b[0m \u001b[38;5;28;01mif\u001b[39;00m file \u001b[38;5;129;01min\u001b[39;00m {\u001b[38;5;241m0\u001b[39m, \u001b[38;5;241m1\u001b[39m, \u001b[38;5;241m2\u001b[39m}:\n\u001b[0;32m    318\u001b[0m     \u001b[38;5;28;01mraise\u001b[39;00m \u001b[38;5;167;01mValueError\u001b[39;00m(\n\u001b[0;32m    319\u001b[0m         \u001b[38;5;124mf\u001b[39m\u001b[38;5;124m\"\u001b[39m\u001b[38;5;124mIPython won\u001b[39m\u001b[38;5;124m'\u001b[39m\u001b[38;5;124mt let you open fd=\u001b[39m\u001b[38;5;132;01m{\u001b[39;00mfile\u001b[38;5;132;01m}\u001b[39;00m\u001b[38;5;124m by default \u001b[39m\u001b[38;5;124m\"\u001b[39m\n\u001b[0;32m    320\u001b[0m         \u001b[38;5;124m\"\u001b[39m\u001b[38;5;124mas it is likely to crash IPython. If you know what you are doing, \u001b[39m\u001b[38;5;124m\"\u001b[39m\n\u001b[0;32m    321\u001b[0m         \u001b[38;5;124m\"\u001b[39m\u001b[38;5;124myou can use builtins\u001b[39m\u001b[38;5;124m'\u001b[39m\u001b[38;5;124m open.\u001b[39m\u001b[38;5;124m\"\u001b[39m\n\u001b[0;32m    322\u001b[0m     )\n\u001b[1;32m--> 324\u001b[0m \u001b[38;5;28;01mreturn\u001b[39;00m \u001b[43mio_open\u001b[49m\u001b[43m(\u001b[49m\u001b[43mfile\u001b[49m\u001b[43m,\u001b[49m\u001b[43m \u001b[49m\u001b[38;5;241;43m*\u001b[39;49m\u001b[43margs\u001b[49m\u001b[43m,\u001b[49m\u001b[43m \u001b[49m\u001b[38;5;241;43m*\u001b[39;49m\u001b[38;5;241;43m*\u001b[39;49m\u001b[43mkwargs\u001b[49m\u001b[43m)\u001b[49m\n",
      "\u001b[1;31mFileNotFoundError\u001b[0m: [Errno 2] No such file or directory: 'quad.ckpy'"
     ]
    }
   ],
   "source": [
    "main()"
   ]
  }
 ],
 "metadata": {
  "kernelspec": {
   "display_name": "Python 3",
   "language": "python",
   "name": "python3"
  },
  "language_info": {
   "codemirror_mode": {
    "name": "ipython",
    "version": 3
   },
   "file_extension": ".py",
   "mimetype": "text/x-python",
   "name": "python",
   "nbconvert_exporter": "python",
   "pygments_lexer": "ipython3",
   "version": "3.12.4"
  }
 },
 "nbformat": 4,
 "nbformat_minor": 5
}
