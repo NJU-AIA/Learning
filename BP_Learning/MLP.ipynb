{
 "cells": [
  {
   "cell_type": "code",
   "execution_count": 12,
   "metadata": {},
   "outputs": [
    {
     "name": "stdout",
     "output_type": "stream",
     "text": [
      "Loading ..\\assets\\MNIST\\raw\\train-images-idx3-ubyte.gz\n",
      "Loading ..\\assets\\MNIST\\raw\\train-labels-idx1-ubyte.gz\n",
      "Loading ..\\assets\\MNIST\\raw\\t10k-images-idx3-ubyte.gz\n",
      "Loading ..\\assets\\MNIST\\raw\\t10k-labels-idx1-ubyte.gz\n",
      "Data loaded successfully!\n"
     ]
    }
   ],
   "source": [
    "import numpy as np\n",
    "import gzip\n",
    "import os\n",
    "\n",
    "# 指定本地文件路径\n",
    "data_dir = \"..\\\\assets\\\\MNIST\\\\raw\"\n",
    "filenames = ['train-images-idx3-ubyte.gz', 'train-labels-idx1-ubyte.gz',\n",
    "             't10k-images-idx3-ubyte.gz', 't10k-labels-idx1-ubyte.gz']\n",
    "data = []\n",
    "\n",
    "for filename in filenames:\n",
    "    filepath = os.path.join(data_dir, filename)\n",
    "    print(\"Loading\", filepath)\n",
    "    with gzip.open(filepath, 'rb') as f:\n",
    "        if 'labels' in filename:\n",
    "            # 读取标签数据，偏移量为8字节\n",
    "            data.append(np.frombuffer(f.read(), np.uint8, offset=8))\n",
    "        else:\n",
    "            # 读取图像数据，偏移量为16字节，并转换为 (num_samples, 28*28)\n",
    "            data.append(np.frombuffer(f.read(), np.uint8, offset=16).reshape(-1, 28*28))\n",
    "\n",
    "# 分割训练和测试数据\n",
    "X_train, y_train, X_test, y_test = data\n",
    "\n",
    "# 归一化像素值到 [0,1] 之间\n",
    "X_train = X_train.astype(np.float32) / 255.0\n",
    "X_test = X_test.astype(np.float32) / 255.0\n",
    "\n",
    "# 转换标签为整数类型\n",
    "y_train = y_train.astype(np.int64)\n",
    "y_test = y_test.astype(np.int64)\n",
    "\n",
    "print(\"Data loaded successfully!\")"
   ]
  },
  {
   "cell_type": "code",
   "execution_count": 13,
   "metadata": {},
   "outputs": [
    {
     "name": "stdout",
     "output_type": "stream",
     "text": [
      "X_train: (60000, 784)\n"
     ]
    }
   ],
   "source": [
    "print(\"X_train:\", X_train.shape)"
   ]
  },
  {
   "cell_type": "code",
   "execution_count": 14,
   "metadata": {},
   "outputs": [],
   "source": [
    "import matplotlib.pyplot as plt\n",
    "def show_images(images, labels):\n",
    "    \"\"\"\n",
    "    Display a set of images and their labels using matplotlib.\n",
    "    The first column of `images` should contain the image indices,\n",
    "    and the second column should contain the flattened image pixels\n",
    "    reshaped into 28x28 arrays.\n",
    "    \"\"\"\n",
    "    # Extract the image indices and reshaped pixels\n",
    "    pixels = images.reshape(-1, 28, 28)\n",
    "\n",
    "    # Create a figure with subplots for each image\n",
    "    fig, axs = plt.subplots(\n",
    "        ncols=len(images), nrows=1, figsize=(10, 3 * len(images))\n",
    "    )\n",
    "\n",
    "    # Loop over the images and display them with their labels\n",
    "    for i in range(len(images)):\n",
    "        # Display the image and its label\n",
    "        axs[i].imshow(pixels[i], cmap=\"gray\")\n",
    "        axs[i].set_title(\"Label: {}\".format(labels[i]))\n",
    "\n",
    "        # Remove the tick marks and axis labels\n",
    "        axs[i].set_xticks([])\n",
    "        axs[i].set_yticks([])\n",
    "        axs[i].set_xlabel(\"Index: {}\".format(i))\n",
    "\n",
    "    # Adjust the spacing between subplots\n",
    "    fig.subplots_adjust(hspace=0.5)\n",
    "\n",
    "    # Show the figure\n",
    "    plt.show()"
   ]
  },
  {
   "cell_type": "code",
   "execution_count": 15,
   "metadata": {},
   "outputs": [],
   "source": [
    "import torch.nn as nn\n",
    "import torch\n",
    "import torch.optim as optim\n",
    "import torch.nn.functional as F"
   ]
  },
  {
   "cell_type": "code",
   "execution_count": 16,
   "metadata": {},
   "outputs": [],
   "source": [
    "# 手写数字分类模型\n",
    "class MLP(nn.Module):\n",
    "    def __init__(self):\n",
    "        super().__init__()\n",
    "\n",
    "        self.fc1 = nn.Linear(28*28, 128)\n",
    "        self.fc2 = nn.Linear(128, 10)\n",
    "        \n",
    "\n",
    "    def forward(self, x):\n",
    "        Z1 = F.relu(self.fc1(x))\n",
    "        A1 = torch.sigmoid(Z1)\n",
    "        Z2 = self.fc2(A1)\n",
    "        # A2 = F.softmax(Z2, dim=1)\n",
    "        return Z2"
   ]
  },
  {
   "cell_type": "code",
   "execution_count": 17,
   "metadata": {},
   "outputs": [
    {
     "name": "stdout",
     "output_type": "stream",
     "text": [
      "Using device: cuda\n"
     ]
    }
   ],
   "source": [
    "device = torch.device(\"cuda\" if torch.cuda.is_available() else \"cpu\")\n",
    "print(\"Using device:\", device)\n",
    "X_train = torch.from_numpy(X_train).to(device)\n",
    "y_train = torch.from_numpy(y_train).to(device)\n",
    "num_epochs = 10\n",
    "batch_size = 64\n",
    "# Create a DataLoader to handle batching of the training data\n",
    "train_data = torch.utils.data.TensorDataset(X_train, y_train)\n",
    "train_loader = torch.utils.data.DataLoader(\n",
    "    train_data, batch_size=batch_size, shuffle=True\n",
    ")\n"
   ]
  },
  {
   "cell_type": "code",
   "execution_count": 18,
   "metadata": {},
   "outputs": [],
   "source": [
    "model = MLP().to(device)\n",
    "optimizer = optim.SGD(model.parameters(), lr=0.1)\n",
    "criterion = nn.CrossEntropyLoss()\n"
   ]
  },
  {
   "cell_type": "code",
   "execution_count": 19,
   "metadata": {},
   "outputs": [
    {
     "name": "stdout",
     "output_type": "stream",
     "text": [
      "Epoch 1/10: loss=0.0175\n",
      "Epoch 2/10: loss=0.0064\n",
      "Epoch 3/10: loss=0.0050\n",
      "Epoch 4/10: loss=0.0044\n",
      "Epoch 5/10: loss=0.0040\n",
      "Epoch 6/10: loss=0.0036\n",
      "Epoch 7/10: loss=0.0034\n",
      "Epoch 8/10: loss=0.0032\n",
      "Epoch 9/10: loss=0.0030\n",
      "Epoch 10/10: loss=0.0028\n"
     ]
    }
   ],
   "source": [
    "# training loop\n",
    "for epoch in range(num_epochs):\n",
    "    total_loss = 0\n",
    "    model.train()\n",
    "    for X_batch, y_batch in train_loader:\n",
    "        optimizer.zero_grad()\n",
    "        y_pred = model(X_batch)\n",
    "        loss = criterion(y_pred, y_batch)\n",
    "        loss.backward()\n",
    "        optimizer.step()\n",
    "        total_loss += loss.item()\n",
    "        \n",
    "    # Print the epoch loss\n",
    "    epoch_loss = total_loss / len(train_loader.dataset)\n",
    "    print(\n",
    "        \"Epoch {}/{}: loss={:.4f}\".format(epoch + 1, num_epochs, epoch_loss)\n",
    "    )\n",
    "    "
   ]
  },
  {
   "cell_type": "code",
   "execution_count": 22,
   "metadata": {},
   "outputs": [
    {
     "data": {
      "image/png": "[encoded data removed]",
      "text/plain": [
       "<Figure size 1000x3000 with 10 Axes>"
      ]
     },
     "metadata": {},
     "output_type": "display_data"
    }
   ],
   "source": [
    "# 可视化模型预测结果\n",
    "model.eval()\n",
    "# X_test = torch.from_numpy(X_test).to(device)\n",
    "# y_test = torch.from_numpy(y_test).to(device)\n",
    "y_pred = model(torch.from_numpy(X_test).to(device))\n",
    "y_pred = torch.argmax(y_pred, dim=1)\n",
    "show_images(X_test[10:20], y_pred.cpu().numpy()[10:20])\n",
    "\n"
   ]
  },
  {
   "cell_type": "code",
   "execution_count": 23,
   "metadata": {},
   "outputs": [],
   "source": [
    "torch.save(model.state_dict(), \"mlp_mnist.pth\")"
   ]
  },
  {
   "cell_type": "code",
   "execution_count": null,
   "metadata": {},
   "outputs": [],
   "source": []
  }
 ],
 "metadata": {
  "kernelspec": {
   "display_name": "CV",
   "language": "python",
   "name": "python3"
  },
  "language_info": {
   "codemirror_mode": {
    "name": "ipython",
    "version": 3
   },
   "file_extension": ".py",
   "mimetype": "text/x-python",
   "name": "python",
   "nbconvert_exporter": "python",
   "pygments_lexer": "ipython3",
   "version": "undefined.undefined.undefined"
  }
 },
 "nbformat": 4,
 "nbformat_minor": 2
}
