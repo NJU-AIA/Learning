{
 "cells": [
  {
   "cell_type": "code",
   "execution_count": 41,
   "id": "a9993abe-dc1d-494d-bbd4-da4384f6c061",
   "metadata": {},
   "outputs": [],
   "source": [
    "import numpy as np\n",
    "import json\n",
    "import random\n",
    "from tqdm import tqdm"
   ]
  },
  {
   "cell_type": "code",
   "execution_count": 42,
   "id": "90c51646-450b-4581-a18c-692fe96298a1",
   "metadata": {},
   "outputs": [],
   "source": [
    "def sigmoid(x):\n",
    "    return 1/(1+np.exp(-x))\n",
    "def d_sigmoid(y):\n",
    "    return y*(1-y)\n",
    "def relu(x):\n",
    "    return np.maximum(0,x)\n",
    "def d_relu(x):\n",
    "    x[x<=0] = 0\n",
    "    x[x>0] = 1\n",
    "    return x\n",
    "def load_data(path):\n",
    "    with open(path, 'r') as f:\n",
    "        json_data = json.load(f)\n",
    "        X = np.array(json_data['x'])\n",
    "        X = (X - np.mean(X,axis=0)) / np.std(X, axis=0)\n",
    "        y = np.array(json_data['y'])\n",
    "        return X,y"
   ]
  },
  {
   "cell_type": "code",
   "execution_count": 43,
   "id": "ce2a23d7-00ef-42c3-8760-e078d499b45a",
   "metadata": {},
   "outputs": [],
   "source": [
    "class Layer:\n",
    "    def __init__(self, input_size, output_size, activation):\n",
    "        self.input_size = input_size\n",
    "        self.output_size = output_size\n",
    "        self.activation = activation\n",
    "        self.weights = np.random.randn(output_size, input_size+1)\n",
    "        if self.activation == sigmoid:\n",
    "            self.d_activation = d_sigmoid\n",
    "        elif self.activation == relu:\n",
    "            self.d_activation = d_relu\n",
    "        self.delta = np.zeros(output_size) #param delta\n",
    "    def forward(self, x):\n",
    "        self.x = np.append(x, 1)\n",
    "        self.z = self.weights@self.x\n",
    "        self.y = self.activation(self.z)\n",
    "        return self.y\n",
    "    def backward(self, delta):\n",
    "        self.delta = delta\n",
    "        return delta * self.d_activation(self.y) @ self.weights\n",
    "    def update(self, lr):\n",
    "        tmp = self.delta * self.d_activation(self.y)\n",
    "        self.weights -= lr * np.outer(tmp, self.x)"
   ]
  },
  {
   "cell_type": "code",
   "execution_count": 44,
   "id": "df9123e2-2c56-4449-9812-ce2c83625b80",
   "metadata": {},
   "outputs": [],
   "source": [
    "class MLP:\n",
    "    def __init__(self,layer_shapes):\n",
    "        self.layers = []\n",
    "        for i in range(len(layer_shapes)-1):\n",
    "            self.layers.append(Layer(layer_shapes[i],layer_shapes[i+1],sigmoid))\n",
    "    def forward(self,x):\n",
    "        for layer in self.layers:\n",
    "            x = layer.forward(x)\n",
    "        return x\n",
    "    def load_ckpt(self, ckpt_file_name): \n",
    "        with open(ckpt_file_name, 'r') as f:\n",
    "            json_data = json.load(f)\n",
    "        weights = json_data['weights']\n",
    "        assert len(weights) == len(self.layers)\n",
    "        for index, layer in enumerate(self.layers):\n",
    "            layer.weights = np.array(weights[index])\n",
    "    def save_ckpt(self, ckpt_file_name):\n",
    "        data = {\n",
    "            'weights': [layer.weights.tolist() for layer in self.layers]\n",
    "        }\n",
    "        print(data)\n",
    "        json_data = json.dumps(data)\n",
    "        with open(ckpt_file_name, 'w') as f:\n",
    "            f.write(json_data)\n",
    "    def evaluate(self, X, ANS_Y):\n",
    "        acc = 0\n",
    "        for index, x in enumerate(X):\n",
    "            pred_y = self.forward(x)[0]\n",
    "            if np.abs(pred_y - ANS_Y[index]) < 0.5: acc += 1\n",
    "        return acc/len(ANS_Y)\n",
    "    def backward(self, delta):\n",
    "        for layer in reversed(self.layers):\n",
    "            if layer == self.layers[-1]:\n",
    "                delta = layer.backward(delta)\n",
    "            else:\n",
    "                delta = layer.backward(delta[:-1])\n",
    "    def update(self, lr):\n",
    "        for layer in self.layers:\n",
    "            layer.update(lr)\n",
    "    def train(self, X, Ans, lr):\n",
    "        for idx, x in enumerate(X):\n",
    "            cur_ans = self.forward(x)\n",
    "            error_scale = cur_ans - Ans[idx]\n",
    "            self.backward(error_scale)\n",
    "            self.update(lr)"
   ]
  },
  {
   "cell_type": "code",
   "execution_count": 45,
   "id": "fe5e1eb4-ff4e-4801-bcc7-c19ac593322d",
   "metadata": {
    "scrolled": true
   },
   "outputs": [
    {
     "name": "stderr",
     "output_type": "stream",
     "text": [
      "100%|██████████| 1000/1000 [01:34<00:00, 10.58it/s]\n"
     ]
    },
    {
     "name": "stdout",
     "output_type": "stream",
     "text": [
      "0.934\n"
     ]
    }
   ],
   "source": [
    "lr = 0.001\n",
    "X,Y = load_data('data.json')\n",
    "np.random.seed(237652)\n",
    "random.seed(237652)\n",
    "model = MLP([2, 64, 1])\n",
    "for i in tqdm(range(1000)):\n",
    "    model.train(X, Y, lr)\n",
    "print(model.evaluate(X, Y))"
   ]
  }
 ],
 "metadata": {
  "kernelspec": {
   "display_name": "Python 3 (ipykernel)",
   "language": "python",
   "name": "python3"
  },
  "language_info": {
   "codemirror_mode": {
    "name": "ipython",
    "version": 3
   },
   "file_extension": ".py",
   "mimetype": "text/x-python",
   "name": "python",
   "nbconvert_exporter": "python",
   "pygments_lexer": "ipython3",
   "version": "3.12.7"
  }
 },
 "nbformat": 4,
 "nbformat_minor": 5
}
