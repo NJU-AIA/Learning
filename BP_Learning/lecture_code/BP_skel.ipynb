{
 "cells": [
  {
   "cell_type": "code",
   "id": "initial_id",
   "metadata": {
    "ExecuteTime": {
     "end_time": "2024-11-22T00:36:22.124192Z",
     "start_time": "2024-11-22T00:36:22.028330Z"
    }
   },
   "source": [
    "import numpy as np\n",
    "import json\n",
    "import random\n",
    "# TODO some imports"
   ],
   "outputs": [],
   "execution_count": 1
  },
  {
   "cell_type": "code",
   "id": "6fb15d3656c36be0",
   "metadata": {
    "ExecuteTime": {
     "end_time": "2024-11-22T00:36:22.743103Z",
     "start_time": "2024-11-22T00:36:22.735286Z"
    }
   },
   "source": [
    "def sigmoid(x):\n",
    "    return 1/(1+np.exp(-x))\n",
    "def d_sigmoid(y):\n",
    "    return y*(1-y)\n",
    "def relu(x):\n",
    "    return np.maximum(0,x)\n",
    "def d_relu(x):\n",
    "    x[x<=0] = 0\n",
    "    x[x>0] = 1\n",
    "    return x\n",
    "def load_data(path):\n",
    "    with open(path, 'r') as f:\n",
    "        json_data = json.load(f)\n",
    "        X = np.array(json_data['x'])\n",
    "        X = (X - np.mean(X,axis=0)) / np.std(X, axis=0)\n",
    "        y = np.array(json_data['y'])\n",
    "        return X,y"
   ],
   "outputs": [],
   "execution_count": 2
  },
  {
   "cell_type": "code",
   "id": "f7017e79afd57847",
   "metadata": {
    "ExecuteTime": {
     "end_time": "2024-11-22T00:59:29.666545Z",
     "start_time": "2024-11-22T00:59:29.656026Z"
    }
   },
   "source": [
    "class Layer:\n",
    "    def __init__(self, input_size, output_size, activation):\n",
    "        self.input_size = input_size\n",
    "        self.output_size = output_size\n",
    "        self.activation = activation\n",
    "        self.weights = np.random.randn(output_size, input_size+1)\n",
    "        if self.activation == sigmoid:\n",
    "            self.d_activation = d_sigmoid\n",
    "        elif self.activation == relu:\n",
    "            self.d_activation = d_relu\n",
    "    def forward(self, x):\n",
    "        self.x = np.append(x, 1)\n",
    "        self.z = self.weights@self.x\n",
    "        self.y = self.activation(self.z)\n",
    "        return self.y\n",
    "    # TODO param delta\n",
    "    # TODO def backward\n",
    "    # TODO def update"
   ],
   "outputs": [],
   "execution_count": 38
  },
  {
   "cell_type": "code",
   "id": "c9c23374fb83c952",
   "metadata": {
    "ExecuteTime": {
     "end_time": "2024-11-22T00:59:30.786459Z",
     "start_time": "2024-11-22T00:59:30.774759Z"
    }
   },
   "source": [
    "class MLP:\n",
    "    def __init__(self,layer_shapes):\n",
    "        self.layers = []\n",
    "        for i in range(len(layer_shapes)-1):\n",
    "            self.layers.append(Layer(layer_shapes[i],layer_shapes[i+1],sigmoid))\n",
    "    def forward(self,x):\n",
    "        for layer in self.layers:\n",
    "            x = layer.forward(x)\n",
    "        return x\n",
    "    def load_ckpt(self, ckpt_file_name):\n",
    "        with open(ckpt_file_name, 'r') as f:\n",
    "            json_data = json.load(f)\n",
    "        weights = json_data['weights']\n",
    "        assert len(weights) == len(self.layers)\n",
    "        for index, layer in enumerate(self.layers):\n",
    "            layer.weights = np.array(weights[index])\n",
    "    def save_ckpt(self, ckpt_file_name):\n",
    "        data = {\n",
    "            'weights': [layer.weights.tolist() for layer in self.layers]\n",
    "        }\n",
    "        print(data)\n",
    "        json_data = json.dumps(data)\n",
    "        with open(ckpt_file_name, 'w') as f:\n",
    "            f.write(json_data)\n",
    "    def evaluate(self, X, ANS_Y):\n",
    "        acc = 0\n",
    "        for index, x in enumerate(X):\n",
    "            pred_y = self.forward(x)[0]\n",
    "            if np.abs(pred_y - ANS_Y[index]) < 0.5: acc += 1\n",
    "        return acc/len(ANS_Y)\n",
    "    # TODO def backward\n",
    "    # TODO def update(self, lr):\n",
    "    # TODO def train\n",
    "        "
   ],
   "outputs": [],
   "execution_count": 39
  }
 ],
 "metadata": {
  "kernelspec": {
   "display_name": "Python 3 (ipykernel)",
   "language": "python",
   "name": "python3"
  },
  "language_info": {
   "codemirror_mode": {
    "name": "ipython",
    "version": 3
   },
   "file_extension": ".py",
   "mimetype": "text/x-python",
   "name": "python",
   "nbconvert_exporter": "python",
   "pygments_lexer": "ipython3",
   "version": "3.12.7"
  }
 },
 "nbformat": 4,
 "nbformat_minor": 5
}
