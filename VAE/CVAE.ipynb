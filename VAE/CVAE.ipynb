{
 "cells": [
  {
   "cell_type": "code",
   "execution_count": null,
   "id": "f9ffe857",
   "metadata": {},
   "outputs": [],
   "source": [
    "class ConditionalVAE(VAE):\n",
    "    # VAE implementation from the article linked above\n",
    "    def __init__(self, num_classes):\n",
    "        super().__init__()\n",
    "        # Add a linear layer for the class label\n",
    "        self.label_projector = nn.Sequential(\n",
    "            nn.Linear(num_classes, self.num_hidden),\n",
    "            nn.ReLU(),\n",
    "        )\n",
    "\n",
    "    def condition_on_label(self, z, y):\n",
    "        projected_label = self.label_projector(y.float())\n",
    "        return z + projected_label\n",
    "\n",
    "    def forward(self, x, y):\n",
    "        # Pass the input through the encoder\n",
    "        encoded = self.encoder(x)\n",
    "        # Compute the mean and log variance vectors\n",
    "        mu = self.mu(encoded)\n",
    "        log_var = self.log_var(encoded)\n",
    "        # Reparameterize the latent variable\n",
    "        z = self.reparameterize(mu, log_var)\n",
    "        # Pass the latent variable through the decoder\n",
    "        decoded = self.decoder(self.condition_on_label(z, y))\n",
    "        # Return the encoded output, decoded output, mean, and log variance\n",
    "        return encoded, decoded, mu, log_var\n",
    "\n",
    "    def sample(self, num_samples, y):\n",
    "        with torch.no_grad():\n",
    "            # Generate random noise\n",
    "            z = torch.randn(num_samples, self.num_hidden).to(device)\n",
    "            # Pass the noise through the decoder to generate samples\n",
    "            samples = self.decoder(self.condition_on_label(z, y))\n",
    "        # Return the generated samples\n",
    "        return samples"
   ]
  }
 ],
 "metadata": {
  "language_info": {
   "name": "python"
  }
 },
 "nbformat": 4,
 "nbformat_minor": 5
}
