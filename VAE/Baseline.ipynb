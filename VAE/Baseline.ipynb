{
 "cells": [
  {
   "cell_type": "code",
   "execution_count": 1,
   "metadata": {},
   "outputs": [],
   "source": [
    "import torch\n",
    "import torch.nn as nn\n",
    "import torch.optim as optim\n",
    "import torchvision\n",
    "import torchvision.transforms as transforms\n",
    "import matplotlib.pyplot as plt\n",
    "\n",
    "# ===========================\n",
    "# 1. 加载 MNIST 数据\n",
    "# ===========================\n",
    "transform = transforms.Compose([transforms.ToTensor()])\n",
    "\n",
    "train_dataset = torchvision.datasets.MNIST(root=\"../assets\", train=True, transform=transform, download=False)\n",
    "train_loader = torch.utils.data.DataLoader(train_dataset, batch_size=64, shuffle=True)"
   ]
  },
  {
   "cell_type": "code",
   "execution_count": 2,
   "metadata": {},
   "outputs": [],
   "source": [
    "class MNISTMLP(nn.Module):\n",
    "    def __init__(self, embed_dim=64, hidden_dim=256, img_size=28):\n",
    "        super().__init__()\n",
    "        self.embed_dim = embed_dim\n",
    "        self.img_size = img_size\n",
    "\n",
    "        # 文本输入（单个数字）Embedding\n",
    "        self.token_embedding = nn.Embedding(10, embed_dim)\n",
    "\n",
    "        # MLP 网络\n",
    "        self.fc1 = nn.Linear(embed_dim, hidden_dim)\n",
    "        self.fc2 = nn.Linear(hidden_dim, img_size * img_size)\n",
    "        self.activation = nn.ReLU()\n",
    "\n",
    "    def forward(self, text_input):\n",
    "        batch_size = text_input.shape[0]\n",
    "\n",
    "        # 数字映射到嵌入向量\n",
    "        text_embedded = self.token_embedding(text_input)  # (batch, embed_dim)\n",
    "\n",
    "        # 通过 MLP 处理\n",
    "        hidden = self.activation(self.fc1(text_embedded))  # (batch, hidden_dim)\n",
    "        output_image = self.fc2(hidden)  # (batch, 28*28)\n",
    "\n",
    "        # 变成 28x28 图片\n",
    "        output_image = output_image.view(batch_size, self.img_size, self.img_size)\n",
    "\n",
    "        return output_image  # (batch, 28, 28)\n",
    "\n"
   ]
  },
  {
   "cell_type": "code",
   "execution_count": 3,
   "metadata": {},
   "outputs": [
    {
     "name": "stdout",
     "output_type": "stream",
     "text": [
      "Epoch [1/5], Batch [0], Loss: 0.1623\n",
      "Epoch [1/5], Batch [200], Loss: 0.0567\n",
      "Epoch [1/5], Batch [400], Loss: 0.0549\n",
      "Epoch [1/5], Batch [600], Loss: 0.0536\n",
      "Epoch [1/5], Batch [800], Loss: 0.0530\n",
      "Epoch [2/5], Batch [0], Loss: 0.0529\n",
      "Epoch [2/5], Batch [200], Loss: 0.0506\n",
      "Epoch [2/5], Batch [400], Loss: 0.0561\n",
      "Epoch [2/5], Batch [600], Loss: 0.0539\n",
      "Epoch [2/5], Batch [800], Loss: 0.0527\n",
      "Epoch [3/5], Batch [0], Loss: 0.0524\n",
      "Epoch [3/5], Batch [200], Loss: 0.0610\n",
      "Epoch [3/5], Batch [400], Loss: 0.0537\n",
      "Epoch [3/5], Batch [600], Loss: 0.0555\n",
      "Epoch [3/5], Batch [800], Loss: 0.0559\n",
      "Epoch [4/5], Batch [0], Loss: 0.0528\n",
      "Epoch [4/5], Batch [200], Loss: 0.0523\n",
      "Epoch [4/5], Batch [400], Loss: 0.0537\n",
      "Epoch [4/5], Batch [600], Loss: 0.0561\n",
      "Epoch [4/5], Batch [800], Loss: 0.0562\n",
      "Epoch [5/5], Batch [0], Loss: 0.0550\n",
      "Epoch [5/5], Batch [200], Loss: 0.0605\n",
      "Epoch [5/5], Batch [400], Loss: 0.0563\n",
      "Epoch [5/5], Batch [600], Loss: 0.0503\n",
      "Epoch [5/5], Batch [800], Loss: 0.0537\n"
     ]
    }
   ],
   "source": [
    "\n",
    "device = torch.device(\"cuda\" if torch.cuda.is_available() else \"cpu\")\n",
    "model = MNISTMLP().to(device)\n",
    "optimizer = optim.Adam(model.parameters(), lr=0.001)\n",
    "loss_fn = nn.MSELoss()\n",
    "\n",
    "num_epochs = 5\n",
    "\n",
    "for epoch in range(num_epochs):\n",
    "    for batch_idx, (images, labels) in enumerate(train_loader):\n",
    "        images, labels = images.to(device), labels.to(device)\n",
    "        images = images.view(images.size(0), -1)  # Flatten 28x28 -> 784 pixels\n",
    "\n",
    "        optimizer.zero_grad()\n",
    "        output = model(labels)  # 输入文本数字，生成图像\n",
    "        loss = loss_fn(output.view(output.size(0), -1), images)  # 计算 MSE 损失\n",
    "        loss.backward()\n",
    "        optimizer.step()\n",
    "\n",
    "        if batch_idx % 200 == 0:\n",
    "            print(f\"Epoch [{epoch+1}/{num_epochs}], Batch [{batch_idx}], Loss: {loss.item():.4f}\")"
   ]
  },
  {
   "cell_type": "code",
   "execution_count": 4,
   "metadata": {},
   "outputs": [
    {
     "data": {
      "image/png": "[encoded data removed]",
      "text/plain": [
       "<Figure size 1500x200 with 10 Axes>"
      ]
     },
     "metadata": {},
     "output_type": "display_data"
    }
   ],
   "source": [
    "# 4. 生成 0-9 的手写数字，并排显示\n",
    "# ===========================\n",
    "model.eval()\n",
    "text_inputs = torch.tensor([i for i in range(10)]).to(device)  # 生成 0-9 对应的手写图像\n",
    "generated_images = model(text_inputs).detach().cpu().numpy()\n",
    "\n",
    "# 显示 0-9 生成的手写图像\n",
    "fig, axes = plt.subplots(1, 10, figsize=(15, 2))\n",
    "for i, ax in enumerate(axes):\n",
    "    ax.imshow(generated_images[i], cmap=\"gray\")\n",
    "    ax.set_title(f\"'{i}'\")\n",
    "    ax.axis(\"off\")\n",
    "\n",
    "plt.show()"
   ]
  },
  {
   "cell_type": "code",
   "execution_count": 5,
   "metadata": {},
   "outputs": [],
   "source": [
    "torch.save({\n",
    "    'epoch': epoch,  # 记录当前训练到第几轮\n",
    "    'model_state_dict': model.state_dict(),\n",
    "    'optimizer_state_dict': optimizer.state_dict(),\n",
    "    'loss': loss\n",
    "}, \"baselinecheckpoint.pth\")"
   ]
  },
  {
   "cell_type": "code",
   "execution_count": null,
   "metadata": {},
   "outputs": [],
   "source": []
  }
 ],
 "metadata": {
  "kernelspec": {
   "display_name": "llm",
   "language": "python",
   "name": "python3"
  },
  "language_info": {
   "codemirror_mode": {
    "name": "ipython",
    "version": 3
   },
   "file_extension": ".py",
   "mimetype": "text/x-python",
   "name": "python",
   "nbconvert_exporter": "python",
   "pygments_lexer": "ipython3",
   "version": "undefined.undefined.undefined"
  }
 },
 "nbformat": 4,
 "nbformat_minor": 2
}
